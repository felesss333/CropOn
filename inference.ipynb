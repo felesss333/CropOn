{
 "cells": [
  {
   "cell_type": "code",
   "execution_count": 2,
   "metadata": {},
   "outputs": [
    {
     "ename": "ModuleNotFoundError",
     "evalue": "No module named 'matplotlib'",
     "output_type": "error",
     "traceback": [
      "\u001b[31m---------------------------------------------------------------------------\u001b[39m",
      "\u001b[31mModuleNotFoundError\u001b[39m                       Traceback (most recent call last)",
      "\u001b[36mCell\u001b[39m\u001b[36m \u001b[39m\u001b[32mIn[2]\u001b[39m\u001b[32m, line 2\u001b[39m\n\u001b[32m      1\u001b[39m \u001b[38;5;28;01mimport\u001b[39;00m\u001b[38;5;250m \u001b[39m\u001b[34;01mnumpy\u001b[39;00m\u001b[38;5;250m \u001b[39m\u001b[38;5;28;01mas\u001b[39;00m\u001b[38;5;250m \u001b[39m\u001b[34;01mnp\u001b[39;00m\n\u001b[32m----> \u001b[39m\u001b[32m2\u001b[39m \u001b[38;5;28;01mimport\u001b[39;00m\u001b[38;5;250m \u001b[39m\u001b[34;01mmatplotlib\u001b[39;00m\u001b[34;01m.\u001b[39;00m\u001b[34;01mpyplot\u001b[39;00m\u001b[38;5;250m \u001b[39m\u001b[38;5;28;01mas\u001b[39;00m\u001b[38;5;250m \u001b[39m\u001b[34;01mplt\u001b[39;00m\n\u001b[32m      3\u001b[39m \u001b[38;5;28;01mimport\u001b[39;00m\u001b[38;5;250m \u001b[39m\u001b[34;01mtorch\u001b[39;00m\n\u001b[32m      4\u001b[39m \u001b[38;5;28;01mfrom\u001b[39;00m\u001b[38;5;250m \u001b[39m\u001b[34;01mPIL\u001b[39;00m\u001b[38;5;250m \u001b[39m\u001b[38;5;28;01mimport\u001b[39;00m Image\n",
      "\u001b[31mModuleNotFoundError\u001b[39m: No module named 'matplotlib'"
     ]
    }
   ],
   "source": [
    "import numpy as np\n",
    "import matplotlib.pyplot as plt\n",
    "import torch\n",
    "from PIL import Image\n",
    "import os\n",
    "\n",
    "# --- Cargar modelo ---\n",
    "from sam2.build_sam import build_sam2\n",
    "from sam2.sam2_image_predictor import SAM2ImagePredictor\n",
    "\n",
    "DEVICE = \"cuda\" if torch.cuda.is_available() else \"cpu\"\n",
    "\n",
    "CHECKPOINT_PATH = \"F:/IA/SAM2/checkpoints/sam2.1_hiera_large.pt\"\n",
    "CONFIG_PATH = \"F:/IA/SAM2/segment-anything-2/sam2/configs/sam2.1_hiera_l.yaml\"\n",
    "\n",
    "sam2_model = build_sam2(CONFIG_PATH, CHECKPOINT_PATH, device=DEVICE)\n",
    "predictor = SAM2ImagePredictor(sam2_model)\n",
    "\n",
    "print(\"✅ Modelo cargado.\")"
   ]
  },
  {
   "cell_type": "code",
   "execution_count": null,
   "metadata": {},
   "outputs": [],
   "source": [
    "from IPython.display import display\n",
    "import ipywidgets as widgets\n",
    "from IPython.display import clear_output\n",
    "\n",
    "image = None\n",
    "points = []\n",
    "labels = []\n",
    "\n",
    "def load_image():\n",
    "    global image\n",
    "    uploader = widgets.FileUpload(accept='image/*', multiple=False)\n",
    "    display(uploader)\n",
    "    \n",
    "    def on_upload(change):\n",
    "        global image\n",
    "        for name, file_info in uploader.value.items():\n",
    "            image = Image.open(file_info['content']).convert(\"RGB\")\n",
    "            plt.figure(figsize=(12, 8))\n",
    "            plt.imshow(image)\n",
    "            plt.axis('off')\n",
    "            plt.show()\n",
    "            break\n",
    "    \n",
    "    uploader.observe(on_upload, names='value')\n",
    "\n",
    "load_image()"
   ]
  },
  {
   "cell_type": "code",
   "execution_count": null,
   "metadata": {},
   "outputs": [],
   "source": [
    "def on_click(event):\n",
    "    global points, labels, image\n",
    "    if image is None:\n",
    "        print(\"⚠️ Sube una imagen primero.\")\n",
    "        return\n",
    "    \n",
    "    if event.inaxes is not None:\n",
    "        x, y = int(event.xdata), int(event.ydata)\n",
    "        points.append([x, y])\n",
    "        labels.append(1)  # 1 = foreground\n",
    "        \n",
    "        # Convertir a numpy\n",
    "        image_np = np.array(image)\n",
    "        predictor.set_image(image_np)\n",
    "        \n",
    "        # Predecir máscara\n",
    "        input_points = np.array(points)\n",
    "        input_labels = np.array(labels)\n",
    "        \n",
    "        masks, scores, _ = predictor.predict(\n",
    "            point_coords=input_points,\n",
    "            point_labels=input_labels,\n",
    "            multimask_output=False,\n",
    "        )\n",
    "        \n",
    "        mask = masks[0]\n",
    "        \n",
    "        # Superponer máscara\n",
    "        overlay = image_np.copy()\n",
    "        overlay[mask] = [255, 0, 0]  # Rojo\n",
    "        blended = (image_np * 0.6 + overlay * 0.4).astype(np.uint8)\n",
    "        \n",
    "        # Mostrar\n",
    "        clear_output(wait=True)\n",
    "        plt.figure(figsize=(12, 8))\n",
    "        plt.imshow(blended)\n",
    "        plt.axis('off')\n",
    "        plt.title(\"Haz clic para añadir más puntos. Usa Shift + clic para excluir.\")\n",
    "        plt.show()\n",
    "        \n",
    "        # Guardar máscara\n",
    "        mask_pil = Image.fromarray((mask * 255).astype(np.uint8))\n",
    "        mask_pil.save(\"mask_output.png\")\n",
    "        print(\"✅ Máscara guardada como 'mask_output.png'\")\n",
    "\n",
    "fig = plt.figure(figsize=(12, 8))\n",
    "cid = fig.canvas.mpl_connect('button_press_event', on_click)\n",
    "plt.title(\"Haz clic en la imagen para segmentar. Usa Shift + clic para excluir.\")\n",
    "plt.show()"
   ]
  }
 ],
 "metadata": {
  "kernelspec": {
   "display_name": "Python 3 (ipykernel)",
   "language": "python",
   "name": "python3"
  },
  "language_info": {
   "codemirror_mode": {
    "name": "ipython",
    "version": 3
   },
   "file_extension": ".py",
   "mimetype": "text/x-python",
   "name": "python",
   "nbconvert_exporter": "python",
   "pygments_lexer": "ipython3",
   "version": "3.11.9"
  }
 },
 "nbformat": 4,
 "nbformat_minor": 4
}
